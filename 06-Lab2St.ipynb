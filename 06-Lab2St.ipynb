{
 "cells": [
  {
   "cell_type": "markdown",
   "metadata": {},
   "source": [
    "### Step 1. Loading Dataset\n",
    "Load the `Prima Indians Onset of Diabates` dataset. It is a standard machine learning dataset available for free download from the UCI Machine Learning repository. It describes patient medical record data for Pima Indians and whether they had an onset of diabetes within five years. It is a binary classification problem (onset of diabetes as 1 or not as\n",
    "0)\n",
    "\n",
    "\n",
    "- NTP: Number of times pregnant.\n",
    "- PGC: Plasma glucose concentration a 2 hours in an oral glucose tolerance test. 3. Diastolic blood pressure (mm Hg).\n",
    "- TSFT: Triceps skin fold thickness (mm).\n",
    "- 2hSI: 2-Hour serum insulin (mu U/ml).\n",
    "- BMI: Body mass index.\n",
    "- DPF: Diabetes pedigree function.\n",
    "- Age: Age (years).\n",
    "- OnDiab: Class, onset of diabetes within five years.\n",
    "\n",
    "\n",
    "- Set the dataset columns names to `['NTP', 'PGC','DBP','TSFT','2hSI','BMI','DPF','Age','OnDiab']`.\n",
    "- Print the size of the data set.\n",
    "- Print the first 10 observations of your data set"
   ]
  },
  {
   "cell_type": "code",
   "execution_count": 7,
   "metadata": {},
   "outputs": [
    {
     "name": "stdout",
     "output_type": "stream",
     "text": [
      "Shape: (768, 9)\n",
      "   NTP  PGC  DBP  TSFT  2hSI   BMI    DPF  Age  OnDiab\n",
      "0    6  148   72    35     0  33.6  0.627   50       1\n",
      "1    1   85   66    29     0  26.6  0.351   31       0\n",
      "2    8  183   64     0     0  23.3  0.672   32       1\n",
      "3    1   89   66    23    94  28.1  0.167   21       0\n",
      "4    0  137   40    35   168  43.1  2.288   33       1\n",
      "5    5  116   74     0     0  25.6  0.201   30       0\n",
      "6    3   78   50    32    88  31.0  0.248   26       1\n",
      "7   10  115    0     0     0  35.3  0.134   29       0\n",
      "8    2  197   70    45   543  30.5  0.158   53       1\n",
      "9    8  125   96     0     0   0.0  0.232   54       1\n"
     ]
    }
   ],
   "source": [
    "import pandas as pd\n",
    "import numpy as np\n",
    "import seaborn as sns\n",
    "import matplotlib.pyplot as plt\n",
    "import os\n",
    "\n",
    "datapath = os.path.dirname(os.getcwd())\n",
    "file_path = os.path.join(datapath, 'datasets', 'diabetes.csv')\n",
    "\n",
    "\n",
    "df = pd.read_csv(file_path,\n",
    "                 header=None,\n",
    "                 names=['NTP', 'PGC','DBP','TSFT','2hSI','BMI','DPF','Age','OnDiab'])\n",
    "print(f'Shape: {df.shape}')\n",
    "print(df.head(10))"
   ]
  },
  {
   "cell_type": "markdown",
   "metadata": {},
   "source": [
    "### Step 2: Data type and description for each attribute\n",
    "- Print the data type for each attribute using `dtypes` method of a pandas data frame\n",
    "- Descriptive statistics can give you great insight into the properties of each attribute. Often you can create more summaries than you have time to review. The `describe()` function on the Pandas DataFrame lists 8 statistical properties of each attribute. They are: Count, Mean, Standard Deviation, Minimum Value, 25th Percentile, 50th Percentile (Median), 75th Percentile, Maximum Value.\n",
    "- On classication problems you need to know how balanced the class values are. Highly imbalanced problems (a lot more observations for one class than another) are common and may need special handling in the data preparation stage of your project. You can quickly get an idea of the distribution of the `OnDiab` attribute in Pandas. Grup your data by `OnDiab` attribute and use the `size` method to count the number of different values of `class` attribute."
   ]
  },
  {
   "cell_type": "code",
   "execution_count": 15,
   "metadata": {},
   "outputs": [
    {
     "data": {
      "text/plain": [
       "OnDiab\n",
       "0    500\n",
       "1    268\n",
       "dtype: int64"
      ]
     },
     "execution_count": 15,
     "metadata": {},
     "output_type": "execute_result"
    }
   ],
   "source": [
    "df.dtypes\n",
    "df.describe()\n",
    "df.groupby(['OnDiab']).size()\n",
    "# df.value_counts(['OnDiab'])"
   ]
  },
  {
   "cell_type": "markdown",
   "metadata": {},
   "source": [
    "### Step 3: Draw the histogram of your data attributes.\n",
    "A fast way to get an idea of the distribution of each attribute is to look at histograms. Histograms\n",
    "group data into bins and provide you a count of the number of observations in each bin. From\n",
    "the shape of the bins you can quickly get a feeling for whether an attribute is Gaussian, skewed\n",
    "or even has an exponential distribution. It can also help you see possible outliers.\n",
    "\n",
    "- Use `hist()` method of pandas data frame to plot the histograms."
   ]
  },
  {
   "cell_type": "code",
   "execution_count": 28,
   "metadata": {},
   "outputs": [
    {
     "data": {
      "text/plain": [
       "array([[<Axes: title={'center': 'NTP'}>, <Axes: title={'center': 'PGC'}>,\n",
       "        <Axes: title={'center': 'DBP'}>],\n",
       "       [<Axes: title={'center': 'TSFT'}>,\n",
       "        <Axes: title={'center': '2hSI'}>,\n",
       "        <Axes: title={'center': 'BMI'}>],\n",
       "       [<Axes: title={'center': 'DPF'}>, <Axes: title={'center': 'Age'}>,\n",
       "        <Axes: title={'center': 'OnDiab'}>]], dtype=object)"
      ]
     },
     "execution_count": 28,
     "metadata": {},
     "output_type": "execute_result"
    },
    {
     "data": {
      "image/png": "[encoded data removed]",
      "text/plain": [
       "<Figure size 640x480 with 9 Axes>"
      ]
     },
     "metadata": {},
     "output_type": "display_data"
    }
   ],
   "source": [
    "df.hist(bins = 10)"
   ]
  },
  {
   "cell_type": "markdown",
   "metadata": {},
   "source": [
    "### Step 4: Running a Classifier\n",
    "- Separate your dataset into feature set `X` and target variable `y`. Your target variable is `OnDiab`. \n",
    "- Split your dataset into train and test datasets, keep the test dataset size as 0.25 using `test_size` parameter of `train_test_split`. Set the random seed top 7 using `random_state` parameter of `train_test_split`. Make a stratified split.\n",
    "- Train `KNearestNeighbor` classifer on your train dataset and print the score on the the test dataset. Set number of neighbors to 5."
   ]
  },
  {
   "cell_type": "code",
   "execution_count": 21,
   "metadata": {},
   "outputs": [
    {
     "name": "stdout",
     "output_type": "stream",
     "text": [
      "Model accuracy: 0.74\n"
     ]
    }
   ],
   "source": [
    "from sklearn.model_selection import train_test_split\n",
    "from sklearn.neighbors import KNeighborsClassifier\n",
    "\n",
    "X = df.drop(columns = 'OnDiab', axis = 1)\n",
    "y = df.OnDiab\n",
    "\n",
    "knn = KNeighborsClassifier(n_neighbors=5)\n",
    "\n",
    "X_train, X_test, y_train, y_test = train_test_split(X, y, stratify= y, test_size = 0.25, random_state=7)\n",
    "\n",
    "knn.fit(X_train, y_train)\n",
    "print(f'Model accuracy: {knn.score(X_test, y_test):.2f}')"
   ]
  },
  {
   "cell_type": "markdown",
   "metadata": {},
   "source": [
    "### Step 5 : Grid Search\n",
    "- Import `GridSearchCV` from `sklearn.model_selection`\n",
    "- Split your data into train and test datasets\n",
    "- For `neighbors=1 to 30`, compute `GridSearchCV` for train dataset with kfold=10.\n",
    "- Print the best cross validation score \n",
    "- Print the best parameter\n",
    "- Print the test score"
   ]
  },
  {
   "cell_type": "code",
   "execution_count": null,
   "metadata": {},
   "outputs": [
    {
     "data": {
      "text/plain": [
       "{'n_neighbors': np.int64(15)}"
      ]
     },
     "execution_count": 25,
     "metadata": {},
     "output_type": "execute_result"
    }
   ],
   "source": [
    "from sklearn.model_selection import GridSearchCV\n",
    "\n",
    "knn1 = KNeighborsClassifier()\n",
    "n_param = {'n_neighbors': np.arange(1,31,1)}\n",
    "grid = GridSearchCV(knn1, param_grid= n_param, cv = 10)\n",
    "\n",
    "best_model = grid.fit(X_train, y_train)\n"
   ]
  },
  {
   "cell_type": "code",
   "execution_count": 29,
   "metadata": {},
   "outputs": [
    {
     "name": "stdout",
     "output_type": "stream",
     "text": [
      "best cross validation score: 0.754\n",
      "best parameter: {'n_neighbors': np.int64(15)}\n",
      "test score: 0.71875\n"
     ]
    }
   ],
   "source": [
    "print(f\"best cross validation score: {best_model.best_score_:.3f}\")\n",
    "print(f\"best parameter: {best_model.best_params_}\")\n",
    "print(f\"test score: {best_model.score(X_test, y_test)}\")\n"
   ]
  }
 ],
 "metadata": {
  "kernelspec": {
   "display_name": "dslearn",
   "language": "python",
   "name": "python3"
  },
  "language_info": {
   "codemirror_mode": {
    "name": "ipython",
    "version": 3
   },
   "file_extension": ".py",
   "mimetype": "text/x-python",
   "name": "python",
   "nbconvert_exporter": "python",
   "pygments_lexer": "ipython3",
   "version": "3.12.7"
  }
 },
 "nbformat": 4,
 "nbformat_minor": 4
}
